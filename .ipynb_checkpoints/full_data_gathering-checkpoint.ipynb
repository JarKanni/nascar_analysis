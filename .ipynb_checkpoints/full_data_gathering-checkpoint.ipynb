{
 "cells": [
  {
   "cell_type": "code",
   "execution_count": 1,
   "id": "a39dbb26-f19e-482a-8576-b7f5da443828",
   "metadata": {},
   "outputs": [],
   "source": [
    "import pandas as pd\n",
    "import requests\n",
    "import numpy as np\n",
    "import plotly.express as px\n",
    "import plotly.graph_objects as go\n",
    "import glob\n",
    "import os\n",
    "\n",
    "# force to show all rows and columns\n",
    "pd.set_option('display.max_rows', None)  # Show all rows\n",
    "pd.set_option('display.max_columns', None)  # Show all columns"
   ]
  },
  {
   "cell_type": "code",
   "execution_count": 2,
   "id": "6835eef6-e67a-4c5a-8cfb-96b54556ce7a",
   "metadata": {},
   "outputs": [],
   "source": [
    "# variables to find race and driver, also cut off time to take out yellow flags and pit stop laps\n",
    "race_id = 5546\n",
    "driver_id = 0\n",
    "lap_time_cutoff = 17\n",
    "\n",
    "race_name = 'Daytona' + '_race.csv'\n",
    "path = './data/2025_01_Daytona/'\n",
    "filtered_lap_value = 70\n",
    "filtered_speed_value = 110"
   ]
  },
  {
   "cell_type": "code",
   "execution_count": 3,
   "id": "230552d0-9c2c-4a9c-acd7-0b88171755ee",
   "metadata": {
    "scrolled": true
   },
   "outputs": [
    {
     "name": "stdout",
     "output_type": "stream",
     "text": [
      "\n",
      "William Byron\n",
      "\n",
      "DAYTONA 500 @ Daytona International Speedway\n",
      "\n",
      "                 FullName Number Manufacturer  RunningPos\n",
      "0           William Byron     24          Chv           1\n",
      "1           Tyler Reddick     45          Tyt           2\n",
      "2        * Jimmie Johnson     84          Tyt           3\n",
      "3           Chase Briscoe     19          Tyt           4\n",
      "4    John Hunter Nemechek     42          Tyt           5\n",
      "5             Alex Bowman     48          Chv           6\n",
      "6             Ryan Blaney     12          Frd           7\n",
      "7          Austin Cindric      2          Frd           8\n",
      "8    * Justin Allgaier(i)     40          Chv           9\n",
      "9          Chris Buescher     17          Frd          10\n",
      "10       Michael McDowell     71          Chv          11\n",
      "11             Erik Jones     43          Tyt          12\n",
      "12          Daniel Suarez     99          Chv          13\n",
      "13              Ty Dillon     10          Chv          14\n",
      "14          Chase Elliott      9          Chv          15\n",
      "15               Ty Gibbs     54          Tyt          16\n",
      "16         Riley Herbst #     35          Tyt          17\n",
      "17    Ricky Stenhouse Jr.     47          Chv          18\n",
      "18           Justin Haley      7          Chv          19\n",
      "19            Kyle Larson      5          Chv          20\n",
      "20            Cole Custer     41          Frd          21\n",
      "21         * Corey LaJoie     01          Frd          22\n",
      "22          Austin Dillon      3          Chv          23\n",
      "23           Denny Hamlin     11          Tyt          24\n",
      "24              Cody Ware     51          Frd          25\n",
      "25        Brad Keselowski      6          Frd          26\n",
      "26         Todd Gilliland     34          Frd          27\n",
      "27           Noah Gragson      4          Frd          28\n",
      "28          Bubba Wallace     23          Tyt          29\n",
      "29         Carson Hocevar     77          Chv          30\n",
      "30       Christopher Bell     20          Tyt          31\n",
      "31            Ryan Preece     60          Frd          32\n",
      "32  Shane Van Gisbergen #     88          Chv          33\n",
      "33             Kyle Busch      8          Chv          34\n",
      "34            Joey Logano     22          Frd          35\n",
      "35             Zane Smith     38          Frd          36\n",
      "36             Josh Berry     21          Frd          37\n",
      "37     * Martin Truex Jr.     56          Tyt          38\n",
      "38    * Helio Castroneves     91          Chv          39\n",
      "39          Ross Chastain      1          Chv          40\n",
      "40        AJ Allmendinger     16          Chv          41\n",
      "                                   track_name  \\\n",
      "race_id                                         \n",
      "5543                      Bowman Gray Stadium   \n",
      "5544           Daytona International Speedway   \n",
      "5545           Daytona International Speedway   \n",
      "5546           Daytona International Speedway   \n",
      "5547                   Atlanta Motor Speedway   \n",
      "5551                  Circuit of The Americas   \n",
      "5549                          Phoenix Raceway   \n",
      "5548                 Las Vegas Motor Speedway   \n",
      "5583                 Homestead-Miami Speedway   \n",
      "5553                    Martinsville Speedway   \n",
      "5558                       Darlington Raceway   \n",
      "5550                   Bristol Motor Speedway   \n",
      "5555                  Talladega Superspeedway   \n",
      "5554                     Texas Motor Speedway   \n",
      "5557                          Kansas Speedway   \n",
      "5561                North Wilkesboro Speedway   \n",
      "5562                North Wilkesboro Speedway   \n",
      "5563                 Charlotte Motor Speedway   \n",
      "5568                  Nashville Superspeedway   \n",
      "5573          Michigan International Speedway   \n",
      "5552             Autodromo Hermanos Rodriguez   \n",
      "5570                           Pocono Raceway   \n",
      "5576                   Atlanta Motor Speedway   \n",
      "5569                      Chicago Street Race   \n",
      "5565                           Sonoma Raceway   \n",
      "5556                     Dover Motor Speedway   \n",
      "5571              Indianapolis Motor Speedway   \n",
      "5566                            Iowa Speedway   \n",
      "5577               Watkins Glen International   \n",
      "5572                         Richmond Raceway   \n",
      "5574           Daytona International Speedway   \n",
      "5575                       Darlington Raceway   \n",
      "5564            World Wide Technology Raceway   \n",
      "5578                   Bristol Motor Speedway   \n",
      "5567             New Hampshire Motor Speedway   \n",
      "5579                          Kansas Speedway   \n",
      "5581     Charlotte Motor Speedway Road Course   \n",
      "5582                 Las Vegas Motor Speedway   \n",
      "5580                  Talladega Superspeedway   \n",
      "5584                    Martinsville Speedway   \n",
      "5585                          Phoenix Raceway   \n",
      "\n",
      "                                                 race_name  \n",
      "race_id                                                     \n",
      "5543                         Cook Out Clash at Bowman Gray  \n",
      "5544                                     Duel 1 at DAYTONA  \n",
      "5545                                     Duel 2 at DAYTONA  \n",
      "5546                                           DAYTONA 500  \n",
      "5547                                   Ambetter Health 400  \n",
      "5551                        EchoPark Automotive Grand Prix  \n",
      "5549                               Shriners Children's 500  \n",
      "5548                  Pennzoil 400 presented by Jiffy Lube  \n",
      "5583                            Straight Talk Wireless 400  \n",
      "5553                                          Cook Out 400  \n",
      "5558                                          Goodyear 400  \n",
      "5550                                         Food City 500  \n",
      "5555                                       Jack Link's 500  \n",
      "5554                     Würth 400 presented by LIQUI MOLY  \n",
      "5557                                      AdventHealth 400  \n",
      "5561                                  NASCAR All-Star Open  \n",
      "5562                                  NASCAR All-Star Race  \n",
      "5563                                         Coca-Cola 600  \n",
      "5568                                    Cracker Barrel 400  \n",
      "5573                                Firekeepers Casino 400  \n",
      "5552                                       Viva Mexico 250  \n",
      "5570     The Great American Getaway 400 Presented by VI...  \n",
      "5576                 Quaker State 400 Available at Walmart  \n",
      "5569                                        Grant Park 165  \n",
      "5565                                Toyota / Save Mart 350  \n",
      "5556                    Autotrader EchoPark Automotive 400  \n",
      "5571                        Brickyard 400 Presented by PPG  \n",
      "5566                      Iowa Corn 350 Powered by Ethanol  \n",
      "5577                                Go Bowling at The Glen  \n",
      "5572                                          Cook Out 400  \n",
      "5574                                   Coke Zero Sugar 400  \n",
      "5575                                 Cook Out Southern 500  \n",
      "5564                                    Enjoy Illinois 300  \n",
      "5578                             Bass Pro Shops Night Race  \n",
      "5567       NASCAR Cup Series Playoff Race at New Hampshire  \n",
      "5579                                  Hollywood Casino 400  \n",
      "5581                             Bank of America ROVAL 400  \n",
      "5582                                       South Point 400  \n",
      "5580                                         YellaWood 500  \n",
      "5584                                           Xfinity 500  \n",
      "5585                        NASCAR Cup Series Championship  \n"
     ]
    }
   ],
   "source": [
    "# pull driver list from api\n",
    "url = f'https://cf.nascar.com/cacher/2025/1/{race_id}/lap-times.json'\n",
    "json = requests.get(url).json()\n",
    "driver_list = pd.json_normalize(json['laps'])\n",
    "driver_list = driver_list[['FullName','Number','Manufacturer','RunningPos']]\n",
    "\n",
    "# find driver name\n",
    "driver = pd.json_normalize(json['laps'][driver_id])\n",
    "driver = driver['FullName'].iloc[0]\n",
    "\n",
    "# find race name and location\n",
    "url = 'https://cf.nascar.com/cacher/2025/race_list_basic.json'\n",
    "json = requests.get(url).json()\n",
    "race = pd.json_normalize(json['series_1'])\n",
    "race = race[['race_id', 'track_name', 'race_name']].set_index('race_id')\n",
    "race = race.loc[race_id]\n",
    "location = race.values[0]\n",
    "name = race.values[1]\n",
    "race = name + ' @ ' + location\n",
    "\n",
    "# find list of race ids\n",
    "race_list = pd.json_normalize(json['series_1'])\n",
    "race_list = race_list[['race_id', 'track_name', 'race_name']].set_index('race_id')\n",
    "\n",
    "\n",
    "\n",
    "print('\\n' + driver + '\\n')\n",
    "print(race + '\\n')\n",
    "print(driver_list)\n",
    "print(race_list)"
   ]
  },
  {
   "cell_type": "code",
   "execution_count": 4,
   "id": "1d254638-25c4-45eb-a139-28305e42aa96",
   "metadata": {},
   "outputs": [
    {
     "name": "stdout",
     "output_type": "stream",
     "text": [
      "   Unnamed: 0  Lap  LapTime  LapSpeed  RunningPos  Number Manufacturer\n",
      "0           0    0      NaN       NaN           5      24          Chv\n",
      "1           1    1   52.135   172.629           5      24          Chv\n",
      "2           2    2   47.861   188.045           5      24          Chv\n",
      "3           3    3   47.966   187.633           4      24          Chv\n",
      "4           4    4   47.957   187.668           2      24          Chv\n"
     ]
    },
    {
     "data": {
      "application/vnd.plotly.v1+json": {
       "config": {
        "plotlyServerURL": "https://plot.ly"
       },
       "data": [
        {
         "hovertemplate": "Lap=%{x}<br>LapSpeed=%{y}<extra></extra>",
         "legendgroup": "",
         "line": {
          "color": "#636efa",
          "dash": "solid"
         },
         "marker": {
          "symbol": "circle"
         },
         "mode": "lines",
         "name": "",
         "orientation": "v",
         "showlegend": false,
         "type": "scatter",
         "x": {
          "_inputArray": {
           "0": 0,
           "1": 1,
           "10": 10,
           "100": 102,
           "101": 103,
           "102": 104,
           "103": 105,
           "104": 106,
           "105": 107,
           "106": 108,
           "107": 109,
           "108": 110,
           "109": 111,
           "11": 12,
           "110": 112,
           "111": 113,
           "112": 114,
           "113": 115,
           "114": 116,
           "115": 117,
           "116": 118,
           "117": 119,
           "118": 120,
           "119": 121,
           "12": 13,
           "120": 122,
           "121": 123,
           "122": 124,
           "123": 125,
           "124": 126,
           "125": 127,
           "126": 128,
           "127": 129,
           "128": 130,
           "129": 131,
           "13": 14,
           "130": 132,
           "131": 133,
           "132": 134,
           "133": 135,
           "134": 136,
           "135": 137,
           "136": 138,
           "137": 139,
           "138": 140,
           "139": 141,
           "14": 15,
           "140": 142,
           "141": 143,
           "142": 144,
           "143": 145,
           "144": 146,
           "145": 147,
           "146": 148,
           "147": 149,
           "148": 150,
           "149": 151,
           "15": 16,
           "150": 152,
           "151": 153,
           "152": 154,
           "153": 155,
           "154": 156,
           "155": 157,
           "156": 158,
           "157": 159,
           "158": 160,
           "159": 161,
           "16": 17,
           "160": 162,
           "161": 163,
           "162": 164,
           "163": 165,
           "164": 166,
           "165": 167,
           "166": 168,
           "167": 169,
           "168": 170,
           "169": 171,
           "17": 18,
           "170": 172,
           "171": 173,
           "172": 174,
           "173": 175,
           "174": 176,
           "175": 177,
           "176": 178,
           "177": 179,
           "178": 180,
           "179": 181,
           "18": 19,
           "180": 182,
           "181": 183,
           "182": 184,
           "183": 185,
           "184": 186,
           "185": 187,
           "186": 188,
           "187": 189,
           "188": 190,
           "189": 191,
           "19": 20,
           "190": 192,
           "191": 193,
           "192": 194,
           "193": 195,
           "194": 196,
           "195": 197,
           "196": 198,
           "197": 199,
           "198": 200,
           "199": 201,
           "2": 2,
           "20": 22,
           "21": 23,
           "22": 24,
           "23": 25,
           "24": 26,
           "25": 27,
           "26": 28,
           "27": 29,
           "28": 30,
           "29": 31,
           "3": 3,
           "30": 32,
           "31": 33,
           "32": 34,
           "33": 35,
           "34": 36,
           "35": 37,
           "36": 38,
           "37": 39,
           "38": 40,
           "39": 41,
           "4": 4,
           "40": 42,
           "41": 43,
           "42": 44,
           "43": 45,
           "44": 46,
           "45": 47,
           "46": 48,
           "47": 49,
           "48": 50,
           "49": 51,
           "5": 5,
           "50": 52,
           "51": 53,
           "52": 54,
           "53": 55,
           "54": 56,
           "55": 57,
           "56": 58,
           "57": 59,
           "58": 60,
           "59": 61,
           "6": 6,
           "60": 62,
           "61": 63,
           "62": 64,
           "63": 65,
           "64": 66,
           "65": 67,
           "66": 68,
           "67": 69,
           "68": 70,
           "69": 71,
           "7": 7,
           "70": 72,
           "71": 73,
           "72": 74,
           "73": 75,
           "74": 76,
           "75": 77,
           "76": 78,
           "77": 79,
           "78": 80,
           "79": 81,
           "8": 8,
           "80": 82,
           "81": 83,
           "82": 84,
           "83": 85,
           "84": 86,
           "85": 87,
           "86": 88,
           "87": 89,
           "88": 90,
           "89": 91,
           "9": 9,
           "90": 92,
           "91": 93,
           "92": 94,
           "93": 95,
           "94": 96,
           "95": 97,
           "96": 98,
           "97": 99,
           "98": 100,
           "99": 101,
           "bdata": "AAABAAIAAwAEAAUABgAHAAgACQAKAAwADQAOAA8AEAARABIAEwAUABYAFwAYABkAGgAbABwAHQAeAB8AIAAhACIAIwAkACUAJgAnACgAKQAqACsALAAtAC4ALwAwADEAMgAzADQANQA2ADcAOAA5ADoAOwA8AD0APgA/AEAAQQBCAEMARABFAEYARwBIAEkASgBLAEwATQBOAE8AUABRAFIAUwBUAFUAVgBXAFgAWQBaAFsAXABdAF4AXwBgAGEAYgBjAGQAZQBmAGcAaABpAGoAawBsAG0AbgBvAHAAcQByAHMAdAB1AHYAdwB4AHkAegB7AHwAfQB+AH8AgACBAIIAgwCEAIUAhgCHAIgAiQCKAIsAjACNAI4AjwCQAJEAkgCTAJQAlQCWAJcAmACZAJoAmwCcAJ0AngCfAKAAoQCiAKMApAClAKYApwCoAKkAqgCrAKwArQCuAK8AsACxALIAswC0ALUAtgC3ALgAuQC6ALsAvAC9AL4AvwDAAMEAwgDDAMQAxQDGAMcAyADJAA==",
           "dtype": "i2",
           "shape": "200"
          },
          "bdata": "AAABAAIAAwAEAAUABgAHAAgACQAKAAwADQAOAA8AEAARABIAEwAUABYAFwAYABkAGgAbABwAHQAeAB8AIAAhACIAIwAkACUAJgAnACgAKQAqACsALAAtAC4ALwAwADEAMgAzADQANQA2ADcAOAA5ADoAOwA8AD0APgA/AEAAQQBCAEMARABFAEYARwBIAEkASgBLAEwATQBOAE8AUABRAFIAUwBUAFUAVgBXAFgAWQBaAFsAXABdAF4AXwBgAGEAYgBjAGQAZQBmAGcAaABpAGoAawBsAG0AbgBvAHAAcQByAHMAdAB1AHYAdwB4AHkAegB7AHwAfQB+AH8AgACBAIIAgwCEAIUAhgCHAIgAiQCKAIsAjACNAI4AjwCQAJEAkgCTAJQAlQCWAJcAmACZAJoAmwCcAJ0AngCfAKAAoQCiAKMApAClAKYApwCoAKkAqgCrAKwArQCuAK8AsACxALIAswC0ALUAtgC3ALgAuQC6ALsAvAC9AL4AvwDAAMEAwgDDAMQAxQDGAMcAyADJAA==",
          "dtype": "i2"
         },
         "xaxis": "x",
         "y": {
          "_inputArray": {
           "0": null,
           "1": 172.629,
           "10": 83.768,
           "100": 191.465,
           "101": 189.49,
           "102": 188.415,
           "103": 188.316,
           "104": 188.822,
           "105": 189.298,
           "106": 190.396,
           "107": 191.14,
           "108": 193.021,
           "109": 192.831,
           "11": 42.404,
           "110": 191.53,
           "111": 192.423,
           "112": 191.975,
           "113": 192.378,
           "114": 192,
           "115": 192.653,
           "116": 192.53,
           "117": 191.054,
           "118": 190.11,
           "119": 192.287,
           "12": 56.657,
           "120": 192.517,
           "121": 193.578,
           "122": 193.682,
           "123": 193.853,
           "124": 194.275,
           "125": 193.253,
           "126": 193.682,
           "127": 194.154,
           "128": 194.991,
           "129": 110.903,
           "13": 70.193,
           "130": 73.009,
           "131": 62.563,
           "132": 79.979,
           "133": 69.693,
           "134": 69.488,
           "135": 73.543,
           "136": 174.734,
           "137": 188.663,
           "138": 188.691,
           "139": 188.45,
           "14": 69.701,
           "140": 188.588,
           "141": 189.04,
           "142": 188.288,
           "143": 188.576,
           "144": 187.606,
           "145": 187.402,
           "146": 187.696,
           "147": 188.584,
           "148": 187.075,
           "149": 186.316,
           "15": 64.921,
           "150": 186.532,
           "151": 187.484,
           "152": 187.301,
           "153": 187.821,
           "154": 186.2,
           "155": 186.312,
           "156": 186.139,
           "157": 187.266,
           "158": 185.908,
           "159": 185.793,
           "16": 72.516,
           "160": 147.8,
           "161": 66.023,
           "162": 71.95,
           "163": 66.387,
           "164": 176.301,
           "165": 192.152,
           "166": 192.517,
           "167": 192.691,
           "168": 193.657,
           "169": 193.715,
           "17": 70.287,
           "170": 193.087,
           "171": 192.555,
           "172": 193.104,
           "173": 193.266,
           "174": 193.882,
           "175": 193.179,
           "176": 194.515,
           "177": 192.641,
           "178": 193.811,
           "179": 193.038,
           "18": 69.963,
           "180": 196.061,
           "181": 192.79,
           "182": 193.69,
           "183": 195.946,
           "184": 136.401,
           "185": 72.616,
           "186": 71.958,
           "187": 69.915,
           "188": 69.993,
           "189": 68.495,
           "19": 66.536,
           "190": 76.539,
           "191": 177.883,
           "192": 192.98,
           "193": 192.349,
           "194": 165.578,
           "195": 15.497,
           "196": 69.522,
           "197": 74.076,
           "198": 176.495,
           "199": 189.31,
           "2": 188.045,
           "20": 71.84,
           "21": 70.558,
           "22": 173.367,
           "23": 187.754,
           "24": 188.865,
           "25": 189.474,
           "26": 189.877,
           "27": 191.266,
           "28": 190.702,
           "29": 189.147,
           "3": 187.633,
           "30": 189.227,
           "31": 189.978,
           "32": 190.086,
           "33": 189.565,
           "34": 189.709,
           "35": 190.533,
           "36": 189.43,
           "37": 189.123,
           "38": 189.454,
           "39": 189.777,
           "4": 187.668,
           "40": 189.857,
           "41": 189.649,
           "42": 189.801,
           "43": 189.056,
           "44": 191.477,
           "45": 193.253,
           "46": 193.009,
           "47": 192.682,
           "48": 190.904,
           "49": 191.767,
           "5": 186.986,
           "50": 191.436,
           "51": 192.522,
           "52": 193.22,
           "53": 193.233,
           "54": 193.807,
           "55": 194.292,
           "56": 192.39,
           "57": 194.053,
           "58": 192.893,
           "59": 193.001,
           "6": 186.386,
           "60": 192.951,
           "61": 143.876,
           "62": 76.293,
           "63": 69.228,
           "64": 69.234,
           "65": 61.781,
           "66": 78.679,
           "67": 70.546,
           "68": 73.723,
           "69": 115.9,
           "7": 188.422,
           "70": 73.421,
           "71": 69.655,
           "72": 67.267,
           "73": 70.254,
           "74": 76.253,
           "75": 175.466,
           "76": 187.469,
           "77": 188.687,
           "78": 188.328,
           "79": 187.375,
           "8": 188.604,
           "80": 186.239,
           "81": 110.788,
           "82": 66.271,
           "83": 69.392,
           "84": 76.322,
           "85": 174.635,
           "86": 188.865,
           "87": 189.669,
           "88": 189.302,
           "89": 188.111,
           "9": 187.676,
           "90": 189.31,
           "91": 190.367,
           "92": 190.343,
           "93": 190.042,
           "94": 189.95,
           "95": 190.319,
           "96": 189.901,
           "97": 190.416,
           "98": 189.913,
           "99": 190.815,
           "bdata": "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",
           "dtype": "f8",
           "shape": "200"
          },
          "bdata": "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",
          "dtype": "f8"
         },
         "yaxis": "y"
        }
       ],
       "layout": {
        "annotations": [
         {
          "showarrow": false,
          "text": "filtered: 110mph",
          "x": 1,
          "xanchor": "right",
          "xref": "x domain",
          "y": 110,
          "yanchor": "bottom",
          "yref": "y"
         }
        ],
        "autosize": true,
        "legend": {
         "tracegroupgap": 0
        },
        "shapes": [
         {
          "line": {
           "color": "red",
           "width": 0.5
          },
          "type": "line",
          "x0": 0,
          "x1": 1,
          "xref": "x domain",
          "y0": 110,
          "y1": 110,
          "yref": "y"
         }
        ],
        "template": {
         "data": {
          "bar": [
           {
            "error_x": {
             "color": "#2a3f5f"
            },
            "error_y": {
             "color": "#2a3f5f"
            },
            "marker": {
             "line": {
              "color": "#E5ECF6",
              "width": 0.5
             },
             "pattern": {
              "fillmode": "overlay",
              "size": 10,
              "solidity": 0.2
             }
            },
            "type": "bar"
           }
          ],
          "barpolar": [
           {
            "marker": {
             "line": {
              "color": "#E5ECF6",
              "width": 0.5
             },
             "pattern": {
              "fillmode": "overlay",
              "size": 10,
              "solidity": 0.2
             }
            },
            "type": "barpolar"
           }
          ],
          "carpet": [
           {
            "aaxis": {
             "endlinecolor": "#2a3f5f",
             "gridcolor": "white",
             "linecolor": "white",
             "minorgridcolor": "white",
             "startlinecolor": "#2a3f5f"
            },
            "baxis": {
             "endlinecolor": "#2a3f5f",
             "gridcolor": "white",
             "linecolor": "white",
             "minorgridcolor": "white",
             "startlinecolor": "#2a3f5f"
            },
            "type": "carpet"
           }
          ],
          "choropleth": [
           {
            "colorbar": {
             "outlinewidth": 0,
             "ticks": ""
            },
            "type": "choropleth"
           }
          ],
          "contour": [
           {
            "colorbar": {
             "outlinewidth": 0,
             "ticks": ""
            },
            "colorscale": [
             [
              0,
              "#0d0887"
             ],
             [
              0.1111111111111111,
              "#46039f"
             ],
             [
              0.2222222222222222,
              "#7201a8"
             ],
             [
              0.3333333333333333,
              "#9c179e"
             ],
             [
              0.4444444444444444,
              "#bd3786"
             ],
             [
              0.5555555555555556,
              "#d8576b"
             ],
             [
              0.6666666666666666,
              "#ed7953"
             ],
             [
              0.7777777777777778,
              "#fb9f3a"
             ],
             [
              0.8888888888888888,
              "#fdca26"
             ],
             [
              1,
              "#f0f921"
             ]
            ],
            "type": "contour"
           }
          ],
          "contourcarpet": [
           {
            "colorbar": {
             "outlinewidth": 0,
             "ticks": ""
            },
            "type": "contourcarpet"
           }
          ],
          "heatmap": [
           {
            "colorbar": {
             "outlinewidth": 0,
             "ticks": ""
            },
            "colorscale": [
             [
              0,
              "#0d0887"
             ],
             [
              0.1111111111111111,
              "#46039f"
             ],
             [
              0.2222222222222222,
              "#7201a8"
             ],
             [
              0.3333333333333333,
              "#9c179e"
             ],
             [
              0.4444444444444444,
              "#bd3786"
             ],
             [
              0.5555555555555556,
              "#d8576b"
             ],
             [
              0.6666666666666666,
              "#ed7953"
             ],
             [
              0.7777777777777778,
              "#fb9f3a"
             ],
             [
              0.8888888888888888,
              "#fdca26"
             ],
             [
              1,
              "#f0f921"
             ]
            ],
            "type": "heatmap"
           }
          ],
          "histogram": [
           {
            "marker": {
             "pattern": {
              "fillmode": "overlay",
              "size": 10,
              "solidity": 0.2
             }
            },
            "type": "histogram"
           }
          ],
          "histogram2d": [
           {
            "colorbar": {
             "outlinewidth": 0,
             "ticks": ""
            },
            "colorscale": [
             [
              0,
              "#0d0887"
             ],
             [
              0.1111111111111111,
              "#46039f"
             ],
             [
              0.2222222222222222,
              "#7201a8"
             ],
             [
              0.3333333333333333,
              "#9c179e"
             ],
             [
              0.4444444444444444,
              "#bd3786"
             ],
             [
              0.5555555555555556,
              "#d8576b"
             ],
             [
              0.6666666666666666,
              "#ed7953"
             ],
             [
              0.7777777777777778,
              "#fb9f3a"
             ],
             [
              0.8888888888888888,
              "#fdca26"
             ],
             [
              1,
              "#f0f921"
             ]
            ],
            "type": "histogram2d"
           }
          ],
          "histogram2dcontour": [
           {
            "colorbar": {
             "outlinewidth": 0,
             "ticks": ""
            },
            "colorscale": [
             [
              0,
              "#0d0887"
             ],
             [
              0.1111111111111111,
              "#46039f"
             ],
             [
              0.2222222222222222,
              "#7201a8"
             ],
             [
              0.3333333333333333,
              "#9c179e"
             ],
             [
              0.4444444444444444,
              "#bd3786"
             ],
             [
              0.5555555555555556,
              "#d8576b"
             ],
             [
              0.6666666666666666,
              "#ed7953"
             ],
             [
              0.7777777777777778,
              "#fb9f3a"
             ],
             [
              0.8888888888888888,
              "#fdca26"
             ],
             [
              1,
              "#f0f921"
             ]
            ],
            "type": "histogram2dcontour"
           }
          ],
          "mesh3d": [
           {
            "colorbar": {
             "outlinewidth": 0,
             "ticks": ""
            },
            "type": "mesh3d"
           }
          ],
          "parcoords": [
           {
            "line": {
             "colorbar": {
              "outlinewidth": 0,
              "ticks": ""
             }
            },
            "type": "parcoords"
           }
          ],
          "pie": [
           {
            "automargin": true,
            "type": "pie"
           }
          ],
          "scatter": [
           {
            "fillpattern": {
             "fillmode": "overlay",
             "size": 10,
             "solidity": 0.2
            },
            "type": "scatter"
           }
          ],
          "scatter3d": [
           {
            "line": {
             "colorbar": {
              "outlinewidth": 0,
              "ticks": ""
             }
            },
            "marker": {
             "colorbar": {
              "outlinewidth": 0,
              "ticks": ""
             }
            },
            "type": "scatter3d"
           }
          ],
          "scattercarpet": [
           {
            "marker": {
             "colorbar": {
              "outlinewidth": 0,
              "ticks": ""
             }
            },
            "type": "scattercarpet"
           }
          ],
          "scattergeo": [
           {
            "marker": {
             "colorbar": {
              "outlinewidth": 0,
              "ticks": ""
             }
            },
            "type": "scattergeo"
           }
          ],
          "scattergl": [
           {
            "marker": {
             "colorbar": {
              "outlinewidth": 0,
              "ticks": ""
             }
            },
            "type": "scattergl"
           }
          ],
          "scattermap": [
           {
            "marker": {
             "colorbar": {
              "outlinewidth": 0,
              "ticks": ""
             }
            },
            "type": "scattermap"
           }
          ],
          "scattermapbox": [
           {
            "marker": {
             "colorbar": {
              "outlinewidth": 0,
              "ticks": ""
             }
            },
            "type": "scattermapbox"
           }
          ],
          "scatterpolar": [
           {
            "marker": {
             "colorbar": {
              "outlinewidth": 0,
              "ticks": ""
             }
            },
            "type": "scatterpolar"
           }
          ],
          "scatterpolargl": [
           {
            "marker": {
             "colorbar": {
              "outlinewidth": 0,
              "ticks": ""
             }
            },
            "type": "scatterpolargl"
           }
          ],
          "scatterternary": [
           {
            "marker": {
             "colorbar": {
              "outlinewidth": 0,
              "ticks": ""
             }
            },
            "type": "scatterternary"
           }
          ],
          "surface": [
           {
            "colorbar": {
             "outlinewidth": 0,
             "ticks": ""
            },
            "colorscale": [
             [
              0,
              "#0d0887"
             ],
             [
              0.1111111111111111,
              "#46039f"
             ],
             [
              0.2222222222222222,
              "#7201a8"
             ],
             [
              0.3333333333333333,
              "#9c179e"
             ],
             [
              0.4444444444444444,
              "#bd3786"
             ],
             [
              0.5555555555555556,
              "#d8576b"
             ],
             [
              0.6666666666666666,
              "#ed7953"
             ],
             [
              0.7777777777777778,
              "#fb9f3a"
             ],
             [
              0.8888888888888888,
              "#fdca26"
             ],
             [
              1,
              "#f0f921"
             ]
            ],
            "type": "surface"
           }
          ],
          "table": [
           {
            "cells": {
             "fill": {
              "color": "#EBF0F8"
             },
             "line": {
              "color": "white"
             }
            },
            "header": {
             "fill": {
              "color": "#C8D4E3"
             },
             "line": {
              "color": "white"
             }
            },
            "type": "table"
           }
          ]
         },
         "layout": {
          "annotationdefaults": {
           "arrowcolor": "#2a3f5f",
           "arrowhead": 0,
           "arrowwidth": 1
          },
          "autotypenumbers": "strict",
          "coloraxis": {
           "colorbar": {
            "outlinewidth": 0,
            "ticks": ""
           }
          },
          "colorscale": {
           "diverging": [
            [
             0,
             "#8e0152"
            ],
            [
             0.1,
             "#c51b7d"
            ],
            [
             0.2,
             "#de77ae"
            ],
            [
             0.3,
             "#f1b6da"
            ],
            [
             0.4,
             "#fde0ef"
            ],
            [
             0.5,
             "#f7f7f7"
            ],
            [
             0.6,
             "#e6f5d0"
            ],
            [
             0.7,
             "#b8e186"
            ],
            [
             0.8,
             "#7fbc41"
            ],
            [
             0.9,
             "#4d9221"
            ],
            [
             1,
             "#276419"
            ]
           ],
           "sequential": [
            [
             0,
             "#0d0887"
            ],
            [
             0.1111111111111111,
             "#46039f"
            ],
            [
             0.2222222222222222,
             "#7201a8"
            ],
            [
             0.3333333333333333,
             "#9c179e"
            ],
            [
             0.4444444444444444,
             "#bd3786"
            ],
            [
             0.5555555555555556,
             "#d8576b"
            ],
            [
             0.6666666666666666,
             "#ed7953"
            ],
            [
             0.7777777777777778,
             "#fb9f3a"
            ],
            [
             0.8888888888888888,
             "#fdca26"
            ],
            [
             1,
             "#f0f921"
            ]
           ],
           "sequentialminus": [
            [
             0,
             "#0d0887"
            ],
            [
             0.1111111111111111,
             "#46039f"
            ],
            [
             0.2222222222222222,
             "#7201a8"
            ],
            [
             0.3333333333333333,
             "#9c179e"
            ],
            [
             0.4444444444444444,
             "#bd3786"
            ],
            [
             0.5555555555555556,
             "#d8576b"
            ],
            [
             0.6666666666666666,
             "#ed7953"
            ],
            [
             0.7777777777777778,
             "#fb9f3a"
            ],
            [
             0.8888888888888888,
             "#fdca26"
            ],
            [
             1,
             "#f0f921"
            ]
           ]
          },
          "colorway": [
           "#636efa",
           "#EF553B",
           "#00cc96",
           "#ab63fa",
           "#FFA15A",
           "#19d3f3",
           "#FF6692",
           "#B6E880",
           "#FF97FF",
           "#FECB52"
          ],
          "font": {
           "color": "#2a3f5f"
          },
          "geo": {
           "bgcolor": "white",
           "lakecolor": "white",
           "landcolor": "#E5ECF6",
           "showlakes": true,
           "showland": true,
           "subunitcolor": "white"
          },
          "hoverlabel": {
           "align": "left"
          },
          "hovermode": "closest",
          "mapbox": {
           "style": "light"
          },
          "paper_bgcolor": "white",
          "plot_bgcolor": "#E5ECF6",
          "polar": {
           "angularaxis": {
            "gridcolor": "white",
            "linecolor": "white",
            "ticks": ""
           },
           "bgcolor": "#E5ECF6",
           "radialaxis": {
            "gridcolor": "white",
            "linecolor": "white",
            "ticks": ""
           }
          },
          "scene": {
           "xaxis": {
            "backgroundcolor": "#E5ECF6",
            "gridcolor": "white",
            "gridwidth": 2,
            "linecolor": "white",
            "showbackground": true,
            "ticks": "",
            "zerolinecolor": "white"
           },
           "yaxis": {
            "backgroundcolor": "#E5ECF6",
            "gridcolor": "white",
            "gridwidth": 2,
            "linecolor": "white",
            "showbackground": true,
            "ticks": "",
            "zerolinecolor": "white"
           },
           "zaxis": {
            "backgroundcolor": "#E5ECF6",
            "gridcolor": "white",
            "gridwidth": 2,
            "linecolor": "white",
            "showbackground": true,
            "ticks": "",
            "zerolinecolor": "white"
           }
          },
          "shapedefaults": {
           "line": {
            "color": "#2a3f5f"
           }
          },
          "ternary": {
           "aaxis": {
            "gridcolor": "white",
            "linecolor": "white",
            "ticks": ""
           },
           "baxis": {
            "gridcolor": "white",
            "linecolor": "white",
            "ticks": ""
           },
           "bgcolor": "#E5ECF6",
           "caxis": {
            "gridcolor": "white",
            "linecolor": "white",
            "ticks": ""
           }
          },
          "title": {
           "x": 0.05
          },
          "xaxis": {
           "automargin": true,
           "gridcolor": "white",
           "linecolor": "white",
           "ticks": "",
           "title": {
            "standoff": 15
           },
           "zerolinecolor": "white",
           "zerolinewidth": 2
          },
          "yaxis": {
           "automargin": true,
           "gridcolor": "white",
           "linecolor": "white",
           "ticks": "",
           "title": {
            "standoff": 15
           },
           "zerolinecolor": "white",
           "zerolinewidth": 2
          }
         }
        },
        "title": {
         "text": "SPEED"
        },
        "xaxis": {
         "anchor": "y",
         "autorange": true,
         "domain": [
          0,
          1
         ],
         "range": [
          0,
          201
         ],
         "title": {
          "text": "Lap"
         },
         "type": "linear"
        },
        "yaxis": {
         "anchor": "x",
         "autorange": true,
         "domain": [
          0,
          1
         ],
         "range": [
          5.465666666666664,
          206.09233333333333
         ],
         "title": {
          "text": "LapSpeed"
         },
         "type": "linear"
        }
       }
      },
      "image/png": "[encoded data removed]"
     },
     "metadata": {},
     "output_type": "display_data"
    },
    {
     "data": {
      "application/vnd.plotly.v1+json": {
       "config": {
        "plotlyServerURL": "https://plot.ly"
       },
       "data": [
        {
         "hovertemplate": "Lap=%{x}<br>LapTime=%{y}<extra></extra>",
         "legendgroup": "",
         "line": {
          "color": "#636efa",
          "dash": "solid"
         },
         "marker": {
          "symbol": "circle"
         },
         "mode": "lines",
         "name": "",
         "orientation": "v",
         "showlegend": false,
         "type": "scatter",
         "x": {
          "_inputArray": {
           "0": 0,
           "1": 1,
           "10": 10,
           "100": 102,
           "101": 103,
           "102": 104,
           "103": 105,
           "104": 106,
           "105": 107,
           "106": 108,
           "107": 109,
           "108": 110,
           "109": 111,
           "11": 12,
           "110": 112,
           "111": 113,
           "112": 114,
           "113": 115,
           "114": 116,
           "115": 117,
           "116": 118,
           "117": 119,
           "118": 120,
           "119": 121,
           "12": 13,
           "120": 122,
           "121": 123,
           "122": 124,
           "123": 125,
           "124": 126,
           "125": 127,
           "126": 128,
           "127": 129,
           "128": 130,
           "129": 131,
           "13": 14,
           "130": 132,
           "131": 133,
           "132": 134,
           "133": 135,
           "134": 136,
           "135": 137,
           "136": 138,
           "137": 139,
           "138": 140,
           "139": 141,
           "14": 15,
           "140": 142,
           "141": 143,
           "142": 144,
           "143": 145,
           "144": 146,
           "145": 147,
           "146": 148,
           "147": 149,
           "148": 150,
           "149": 151,
           "15": 16,
           "150": 152,
           "151": 153,
           "152": 154,
           "153": 155,
           "154": 156,
           "155": 157,
           "156": 158,
           "157": 159,
           "158": 160,
           "159": 161,
           "16": 17,
           "160": 162,
           "161": 163,
           "162": 164,
           "163": 165,
           "164": 166,
           "165": 167,
           "166": 168,
           "167": 169,
           "168": 170,
           "169": 171,
           "17": 18,
           "170": 172,
           "171": 173,
           "172": 174,
           "173": 175,
           "174": 176,
           "175": 177,
           "176": 178,
           "177": 179,
           "178": 180,
           "179": 181,
           "18": 19,
           "180": 182,
           "181": 183,
           "182": 184,
           "183": 185,
           "184": 186,
           "185": 187,
           "186": 188,
           "187": 189,
           "188": 190,
           "189": 191,
           "19": 20,
           "190": 192,
           "191": 193,
           "192": 194,
           "193": 195,
           "194": 196,
           "195": 197,
           "196": 198,
           "197": 199,
           "198": 200,
           "199": 201,
           "2": 2,
           "20": 22,
           "21": 23,
           "22": 24,
           "23": 25,
           "24": 26,
           "25": 27,
           "26": 28,
           "27": 29,
           "28": 30,
           "29": 31,
           "3": 3,
           "30": 32,
           "31": 33,
           "32": 34,
           "33": 35,
           "34": 36,
           "35": 37,
           "36": 38,
           "37": 39,
           "38": 40,
           "39": 41,
           "4": 4,
           "40": 42,
           "41": 43,
           "42": 44,
           "43": 45,
           "44": 46,
           "45": 47,
           "46": 48,
           "47": 49,
           "48": 50,
           "49": 51,
           "5": 5,
           "50": 52,
           "51": 53,
           "52": 54,
           "53": 55,
           "54": 56,
           "55": 57,
           "56": 58,
           "57": 59,
           "58": 60,
           "59": 61,
           "6": 6,
           "60": 62,
           "61": 63,
           "62": 64,
           "63": 65,
           "64": 66,
           "65": 67,
           "66": 68,
           "67": 69,
           "68": 70,
           "69": 71,
           "7": 7,
           "70": 72,
           "71": 73,
           "72": 74,
           "73": 75,
           "74": 76,
           "75": 77,
           "76": 78,
           "77": 79,
           "78": 80,
           "79": 81,
           "8": 8,
           "80": 82,
           "81": 83,
           "82": 84,
           "83": 85,
           "84": 86,
           "85": 87,
           "86": 88,
           "87": 89,
           "88": 90,
           "89": 91,
           "9": 9,
           "90": 92,
           "91": 93,
           "92": 94,
           "93": 95,
           "94": 96,
           "95": 97,
           "96": 98,
           "97": 99,
           "98": 100,
           "99": 101,
           "bdata": "AAABAAIAAwAEAAUABgAHAAgACQAKAAwADQAOAA8AEAARABIAEwAUABYAFwAYABkAGgAbABwAHQAeAB8AIAAhACIAIwAkACUAJgAnACgAKQAqACsALAAtAC4ALwAwADEAMgAzADQANQA2ADcAOAA5ADoAOwA8AD0APgA/AEAAQQBCAEMARABFAEYARwBIAEkASgBLAEwATQBOAE8AUABRAFIAUwBUAFUAVgBXAFgAWQBaAFsAXABdAF4AXwBgAGEAYgBjAGQAZQBmAGcAaABpAGoAawBsAG0AbgBvAHAAcQByAHMAdAB1AHYAdwB4AHkAegB7AHwAfQB+AH8AgACBAIIAgwCEAIUAhgCHAIgAiQCKAIsAjACNAI4AjwCQAJEAkgCTAJQAlQCWAJcAmACZAJoAmwCcAJ0AngCfAKAAoQCiAKMApAClAKYApwCoAKkAqgCrAKwArQCuAK8AsACxALIAswC0ALUAtgC3ALgAuQC6ALsAvAC9AL4AvwDAAMEAwgDDAMQAxQDGAMcAyADJAA==",
           "dtype": "i2",
           "shape": "200"
          },
          "bdata": "AAABAAIAAwAEAAUABgAHAAgACQAKAAwADQAOAA8AEAARABIAEwAUABYAFwAYABkAGgAbABwAHQAeAB8AIAAhACIAIwAkACUAJgAnACgAKQAqACsALAAtAC4ALwAwADEAMgAzADQANQA2ADcAOAA5ADoAOwA8AD0APgA/AEAAQQBCAEMARABFAEYARwBIAEkASgBLAEwATQBOAE8AUABRAFIAUwBUAFUAVgBXAFgAWQBaAFsAXABdAF4AXwBgAGEAYgBjAGQAZQBmAGcAaABpAGoAawBsAG0AbgBvAHAAcQByAHMAdAB1AHYAdwB4AHkAegB7AHwAfQB+AH8AgACBAIIAgwCEAIUAhgCHAIgAiQCKAIsAjACNAI4AjwCQAJEAkgCTAJQAlQCWAJcAmACZAJoAmwCcAJ0AngCfAKAAoQCiAKMApAClAKYApwCoAKkAqgCrAKwArQCuAK8AsACxALIAswC0ALUAtgC3ALgAuQC6ALsAvAC9AL4AvwDAAMEAwgDDAMQAxQDGAMcAyADJAA==",
          "dtype": "i2"
         },
         "xaxis": "x",
         "y": {
          "_inputArray": {
           "0": null,
           "1": 52.135,
           "10": 107.44,
           "100": 47.006,
           "101": 47.496,
           "102": 47.767,
           "103": 47.792,
           "104": 47.664,
           "105": 47.544,
           "106": 47.27,
           "107": 47.086,
           "108": 46.627,
           "109": 46.673,
           "11": 212.245,
           "110": 46.99,
           "111": 46.772,
           "112": 46.881,
           "113": 46.783,
           "114": 46.875,
           "115": 46.716,
           "116": 46.746,
           "117": 47.107,
           "118": 47.341,
           "119": 46.805,
           "12": 158.851,
           "120": 46.749,
           "121": 46.493,
           "122": 46.468,
           "123": 46.427,
           "124": 46.326,
           "125": 46.571,
           "126": 46.468,
           "127": 46.355,
           "128": 46.156,
           "129": 81.152,
           "13": 128.218,
           "130": 123.273,
           "131": 143.856,
           "132": 112.529,
           "133": 129.137,
           "134": 129.518,
           "135": 122.378,
           "136": 51.507,
           "137": 47.704,
           "138": 47.697,
           "139": 47.758,
           "14": 129.123,
           "140": 47.723,
           "141": 47.609,
           "142": 47.799,
           "143": 47.726,
           "144": 47.973,
           "145": 48.025,
           "146": 47.95,
           "147": 47.724,
           "148": 48.109,
           "149": 48.305,
           "15": 138.63,
           "150": 48.249,
           "151": 48.004,
           "152": 48.051,
           "153": 47.918,
           "154": 48.335,
           "155": 48.306,
           "156": 48.351,
           "157": 48.06,
           "158": 48.411,
           "159": 48.441,
           "16": 124.111,
           "160": 60.893,
           "161": 136.316,
           "162": 125.087,
           "163": 135.568,
           "164": 51.049,
           "165": 46.838,
           "166": 46.749,
           "167": 46.707,
           "168": 46.474,
           "169": 46.46,
           "17": 128.047,
           "170": 46.611,
           "171": 46.74,
           "172": 46.607,
           "173": 46.568,
           "174": 46.42,
           "175": 46.589,
           "176": 46.269,
           "177": 46.719,
           "178": 46.437,
           "179": 46.623,
           "18": 128.639,
           "180": 45.904,
           "181": 46.683,
           "182": 46.466,
           "183": 45.931,
           "184": 65.982,
           "185": 123.94,
           "186": 125.073,
           "187": 128.728,
           "188": 128.585,
           "189": 131.396,
           "19": 135.265,
           "190": 117.587,
           "191": 50.595,
           "192": 46.637,
           "193": 46.79,
           "194": 54.355,
           "195": 580.772,
           "196": 129.455,
           "197": 121.497,
           "198": 50.993,
           "199": 47.541,
           "2": 47.861,
           "20": 125.279,
           "21": 127.555,
           "22": 51.913,
           "23": 47.935,
           "24": 47.653,
           "25": 47.5,
           "26": 47.399,
           "27": 47.055,
           "28": 47.194,
           "29": 47.582,
           "3": 47.966,
           "30": 47.562,
           "31": 47.374,
           "32": 47.347,
           "33": 47.477,
           "34": 47.441,
           "35": 47.236,
           "36": 47.511,
           "37": 47.588,
           "38": 47.505,
           "39": 47.424,
           "4": 47.957,
           "40": 47.404,
           "41": 47.456,
           "42": 47.418,
           "43": 47.605,
           "44": 47.003,
           "45": 46.571,
           "46": 46.63,
           "47": 46.709,
           "48": 47.144,
           "49": 46.932,
           "5": 48.132,
           "50": 47.013,
           "51": 46.748,
           "52": 46.579,
           "53": 46.576,
           "54": 46.438,
           "55": 46.322,
           "56": 46.78,
           "57": 46.379,
           "58": 46.658,
           "59": 46.632,
           "6": 48.287,
           "60": 46.644,
           "61": 62.554,
           "62": 117.967,
           "63": 130.005,
           "64": 129.993,
           "65": 145.676,
           "66": 114.389,
           "67": 127.577,
           "68": 122.079,
           "69": 77.653,
           "7": 47.765,
           "70": 122.58,
           "71": 129.208,
           "72": 133.796,
           "73": 128.107,
           "74": 118.028,
           "75": 51.292,
           "76": 48.008,
           "77": 47.698,
           "78": 47.789,
           "79": 48.032,
           "8": 47.719,
           "80": 48.325,
           "81": 81.236,
           "82": 135.805,
           "83": 129.698,
           "84": 117.921,
           "85": 51.536,
           "86": 47.653,
           "87": 47.451,
           "88": 47.543,
           "89": 47.844,
           "9": 47.955,
           "90": 47.541,
           "91": 47.277,
           "92": 47.283,
           "93": 47.358,
           "94": 47.381,
           "95": 47.289,
           "96": 47.393,
           "97": 47.265,
           "98": 47.39,
           "99": 47.166,
           "bdata": "AAAAAAAA+H/hehSuRxFKQJHtfD817kdAz/dT46X7R0DRItv5fvpHQDeJQWDlEEhA2/l+arwkSEBSuB6F6+FHQHnpJjEI3EdACtejcD36R0Bcj8L1KNxaQKRwPQrXh2pArBxaZDvbY0Dl0CLb+QZgQA4tsp3vI2BAXI/C9ShUYUDJdr6fGgdfQC/dJAaBAWBAnMQgsHIUYEAUrkfheuhgQGDl0CLbUV9A7FG4HoXjX0C+nxov3fRJQEjhehSu90dA3SQGgZXTR0AAAAAAAMBHQFCNl24Ss0dA16NwPQqHR0BGtvP91JhHQNEi2/l+ykdADi2yne/HR0AdWmQ7369HQCPb+X5qrEdAkxgEVg69R0CcxCCwcrhHQJHtfD81nkdAxSCwcmjBR0AlBoGVQ8tHQHE9CtejwEdAg8DKoUW2R0DByqFFtrNHQO58PzVeukdAL90kBoG1R0A9CtejcM1HQKrx0k1igEdADAIrhxZJR0BxPQrXo1BHQJhuEoPAWkdA30+Nl26SR0Ce76fGS3dHQIts5/upgUdAObTIdr5fR0AnMQisHEpHQH0/NV66SUdA8tJNYhA4R0Dwp8ZLNylHQKRwPQrXY0dAjZduEoMwR0BOYhBYOVRHQDeJQWDlUEdA30+Nl25SR0D0/dR46UZPQNnO91PjfV1AXI/C9ShAYECyne+nxj9gQBKDwMqhNWJAN4lBYOWYXECwcmiR7eRfQJMYBFYOhV5AbxKDwMppU0CF61G4HqVeQC2yne+nJmBAtvP91Hi5YECBlUOLbANgQG8Sg8DKgV1ATDeJQWClSUAbL90kBgFIQNNNYhBY2UdAokW28/3kR0BqvHSTGARIQJqZmZmZKUhAyXa+nxpPVED2KFyPwvlgQHWTGARWNmBAbef7qfF6XUD4U+Olm8RJQN0kBoGV00dAfT81Xrq5R0Av3SQGgcVHQHnpJjEI7EdAaJHtfD/FR0D6fmq8dKNHQE5iEFg5pEdA5/up8dKtR0BU46WbxLBHQKJFtvP9pEdA/Knx0k2yR0BSuB6F66FHQFK4HoXrsUdAaJHtfD+VR0BU46WbxIBHQHNoke18v0dAGQRWDi3iR0BMN4lBYOVHQKJFtvP91EdAEoPAyqHFR0DD9Shcj6JHQF66SQwCi0dAx0s3iUFQR0CgGi/dJFZHQB+F61G4fkdAiUFg5dBiR0BU46WbxHBHQE5iEFg5ZEdAAAAAAABwR0DP91PjpVtHQHNoke18X0dABFYOLbKNR0DP91PjpatHQNejcD0KZ0dAHVpkO99fR0DJdr6fGj9HQJZDi2znO0dALbKd76c2R0B9PzVeuilHQAwCK4cWSUdAlkOLbOc7R0A9CtejcC1HQIcW2c73E0dAfT81XrpJVEC28/3UeNFeQAisHFpk+2FAYOXQItshXECq8dJNYiRgQH9qvHSTMGBA1XjpJjGYXkA3iUFg5cBJQCcxCKwc2kdA8KfGSzfZR0AbL90kBuFHQAaBlUOL3EdAy6FFtvPNR0CDwMqhReZHQLByaJHt3EdABoGVQ4v8R0AzMzMzMwNIQJqZmZmZ+UdA6SYxCKzcR0DLoUW28w1IQNejcD0KJ0hAHVpkO98fSECNl24SgwBIQEoMAiuHBkhAL90kBoH1R0B7FK5H4SpIQLpJDAIrJ0hAsHJoke0sSEBI4XoUrgdIQPhT46WbNEhAnMQgsHI4SED8qfHSTXJOQCcxCKwcCmFAIbByaJFFX0AZBFYOLfJgQIPAyqFFhklAJQaBlUNrR0AdWmQ7319HQNEi2/l+WkdA6SYxCKw8R0B7FK5H4TpHQJHtfD81TkdAH4XrUbheR0AEVg4tsk1HQGIQWDm0SEdA9ihcj8I1R0AIrBxaZEtHQN9PjZduIkdAeekmMQhcR0AOLbKd7zdHQDm0yHa+T0dAwcqhRbbzRkCBlUOLbFdHQM/3U+OlO0dAukkMAiv3RkACK4cW2X5QQFyPwvUo/F5A6SYxCKxEX0Ce76fGSxdgQB+F61G4EmBA6SYxCKxsYEAhsHJokWVdQFyPwvUoTElAqMZLN4lRR0CF61G4HmVHQD0K16NwLUtAGQRWDi0mgkDD9Shcjy5gQCuHFtnOX15AyXa+nxp/SUBoke18P8VHQA==",
           "dtype": "f8",
           "shape": "200"
          },
          "bdata": "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",
          "dtype": "f8"
         },
         "yaxis": "y"
        }
       ],
       "layout": {
        "annotations": [
         {
          "showarrow": false,
          "text": "filtered: 70sec",
          "x": 1,
          "xanchor": "right",
          "xref": "x domain",
          "y": 70,
          "yanchor": "bottom",
          "yref": "y"
         }
        ],
        "autosize": true,
        "legend": {
         "tracegroupgap": 0
        },
        "shapes": [
         {
          "line": {
           "color": "red",
           "width": 0.5
          },
          "type": "line",
          "x0": 0,
          "x1": 1,
          "xref": "x domain",
          "y0": 70,
          "y1": 70,
          "yref": "y"
         }
        ],
        "template": {
         "data": {
          "bar": [
           {
            "error_x": {
             "color": "#2a3f5f"
            },
            "error_y": {
             "color": "#2a3f5f"
            },
            "marker": {
             "line": {
              "color": "#E5ECF6",
              "width": 0.5
             },
             "pattern": {
              "fillmode": "overlay",
              "size": 10,
              "solidity": 0.2
             }
            },
            "type": "bar"
           }
          ],
          "barpolar": [
           {
            "marker": {
             "line": {
              "color": "#E5ECF6",
              "width": 0.5
             },
             "pattern": {
              "fillmode": "overlay",
              "size": 10,
              "solidity": 0.2
             }
            },
            "type": "barpolar"
           }
          ],
          "carpet": [
           {
            "aaxis": {
             "endlinecolor": "#2a3f5f",
             "gridcolor": "white",
             "linecolor": "white",
             "minorgridcolor": "white",
             "startlinecolor": "#2a3f5f"
            },
            "baxis": {
             "endlinecolor": "#2a3f5f",
             "gridcolor": "white",
             "linecolor": "white",
             "minorgridcolor": "white",
             "startlinecolor": "#2a3f5f"
            },
            "type": "carpet"
           }
          ],
          "choropleth": [
           {
            "colorbar": {
             "outlinewidth": 0,
             "ticks": ""
            },
            "type": "choropleth"
           }
          ],
          "contour": [
           {
            "colorbar": {
             "outlinewidth": 0,
             "ticks": ""
            },
            "colorscale": [
             [
              0,
              "#0d0887"
             ],
             [
              0.1111111111111111,
              "#46039f"
             ],
             [
              0.2222222222222222,
              "#7201a8"
             ],
             [
              0.3333333333333333,
              "#9c179e"
             ],
             [
              0.4444444444444444,
              "#bd3786"
             ],
             [
              0.5555555555555556,
              "#d8576b"
             ],
             [
              0.6666666666666666,
              "#ed7953"
             ],
             [
              0.7777777777777778,
              "#fb9f3a"
             ],
             [
              0.8888888888888888,
              "#fdca26"
             ],
             [
              1,
              "#f0f921"
             ]
            ],
            "type": "contour"
           }
          ],
          "contourcarpet": [
           {
            "colorbar": {
             "outlinewidth": 0,
             "ticks": ""
            },
            "type": "contourcarpet"
           }
          ],
          "heatmap": [
           {
            "colorbar": {
             "outlinewidth": 0,
             "ticks": ""
            },
            "colorscale": [
             [
              0,
              "#0d0887"
             ],
             [
              0.1111111111111111,
              "#46039f"
             ],
             [
              0.2222222222222222,
              "#7201a8"
             ],
             [
              0.3333333333333333,
              "#9c179e"
             ],
             [
              0.4444444444444444,
              "#bd3786"
             ],
             [
              0.5555555555555556,
              "#d8576b"
             ],
             [
              0.6666666666666666,
              "#ed7953"
             ],
             [
              0.7777777777777778,
              "#fb9f3a"
             ],
             [
              0.8888888888888888,
              "#fdca26"
             ],
             [
              1,
              "#f0f921"
             ]
            ],
            "type": "heatmap"
           }
          ],
          "histogram": [
           {
            "marker": {
             "pattern": {
              "fillmode": "overlay",
              "size": 10,
              "solidity": 0.2
             }
            },
            "type": "histogram"
           }
          ],
          "histogram2d": [
           {
            "colorbar": {
             "outlinewidth": 0,
             "ticks": ""
            },
            "colorscale": [
             [
              0,
              "#0d0887"
             ],
             [
              0.1111111111111111,
              "#46039f"
             ],
             [
              0.2222222222222222,
              "#7201a8"
             ],
             [
              0.3333333333333333,
              "#9c179e"
             ],
             [
              0.4444444444444444,
              "#bd3786"
             ],
             [
              0.5555555555555556,
              "#d8576b"
             ],
             [
              0.6666666666666666,
              "#ed7953"
             ],
             [
              0.7777777777777778,
              "#fb9f3a"
             ],
             [
              0.8888888888888888,
              "#fdca26"
             ],
             [
              1,
              "#f0f921"
             ]
            ],
            "type": "histogram2d"
           }
          ],
          "histogram2dcontour": [
           {
            "colorbar": {
             "outlinewidth": 0,
             "ticks": ""
            },
            "colorscale": [
             [
              0,
              "#0d0887"
             ],
             [
              0.1111111111111111,
              "#46039f"
             ],
             [
              0.2222222222222222,
              "#7201a8"
             ],
             [
              0.3333333333333333,
              "#9c179e"
             ],
             [
              0.4444444444444444,
              "#bd3786"
             ],
             [
              0.5555555555555556,
              "#d8576b"
             ],
             [
              0.6666666666666666,
              "#ed7953"
             ],
             [
              0.7777777777777778,
              "#fb9f3a"
             ],
             [
              0.8888888888888888,
              "#fdca26"
             ],
             [
              1,
              "#f0f921"
             ]
            ],
            "type": "histogram2dcontour"
           }
          ],
          "mesh3d": [
           {
            "colorbar": {
             "outlinewidth": 0,
             "ticks": ""
            },
            "type": "mesh3d"
           }
          ],
          "parcoords": [
           {
            "line": {
             "colorbar": {
              "outlinewidth": 0,
              "ticks": ""
             }
            },
            "type": "parcoords"
           }
          ],
          "pie": [
           {
            "automargin": true,
            "type": "pie"
           }
          ],
          "scatter": [
           {
            "fillpattern": {
             "fillmode": "overlay",
             "size": 10,
             "solidity": 0.2
            },
            "type": "scatter"
           }
          ],
          "scatter3d": [
           {
            "line": {
             "colorbar": {
              "outlinewidth": 0,
              "ticks": ""
             }
            },
            "marker": {
             "colorbar": {
              "outlinewidth": 0,
              "ticks": ""
             }
            },
            "type": "scatter3d"
           }
          ],
          "scattercarpet": [
           {
            "marker": {
             "colorbar": {
              "outlinewidth": 0,
              "ticks": ""
             }
            },
            "type": "scattercarpet"
           }
          ],
          "scattergeo": [
           {
            "marker": {
             "colorbar": {
              "outlinewidth": 0,
              "ticks": ""
             }
            },
            "type": "scattergeo"
           }
          ],
          "scattergl": [
           {
            "marker": {
             "colorbar": {
              "outlinewidth": 0,
              "ticks": ""
             }
            },
            "type": "scattergl"
           }
          ],
          "scattermap": [
           {
            "marker": {
             "colorbar": {
              "outlinewidth": 0,
              "ticks": ""
             }
            },
            "type": "scattermap"
           }
          ],
          "scattermapbox": [
           {
            "marker": {
             "colorbar": {
              "outlinewidth": 0,
              "ticks": ""
             }
            },
            "type": "scattermapbox"
           }
          ],
          "scatterpolar": [
           {
            "marker": {
             "colorbar": {
              "outlinewidth": 0,
              "ticks": ""
             }
            },
            "type": "scatterpolar"
           }
          ],
          "scatterpolargl": [
           {
            "marker": {
             "colorbar": {
              "outlinewidth": 0,
              "ticks": ""
             }
            },
            "type": "scatterpolargl"
           }
          ],
          "scatterternary": [
           {
            "marker": {
             "colorbar": {
              "outlinewidth": 0,
              "ticks": ""
             }
            },
            "type": "scatterternary"
           }
          ],
          "surface": [
           {
            "colorbar": {
             "outlinewidth": 0,
             "ticks": ""
            },
            "colorscale": [
             [
              0,
              "#0d0887"
             ],
             [
              0.1111111111111111,
              "#46039f"
             ],
             [
              0.2222222222222222,
              "#7201a8"
             ],
             [
              0.3333333333333333,
              "#9c179e"
             ],
             [
              0.4444444444444444,
              "#bd3786"
             ],
             [
              0.5555555555555556,
              "#d8576b"
             ],
             [
              0.6666666666666666,
              "#ed7953"
             ],
             [
              0.7777777777777778,
              "#fb9f3a"
             ],
             [
              0.8888888888888888,
              "#fdca26"
             ],
             [
              1,
              "#f0f921"
             ]
            ],
            "type": "surface"
           }
          ],
          "table": [
           {
            "cells": {
             "fill": {
              "color": "#EBF0F8"
             },
             "line": {
              "color": "white"
             }
            },
            "header": {
             "fill": {
              "color": "#C8D4E3"
             },
             "line": {
              "color": "white"
             }
            },
            "type": "table"
           }
          ]
         },
         "layout": {
          "annotationdefaults": {
           "arrowcolor": "#2a3f5f",
           "arrowhead": 0,
           "arrowwidth": 1
          },
          "autotypenumbers": "strict",
          "coloraxis": {
           "colorbar": {
            "outlinewidth": 0,
            "ticks": ""
           }
          },
          "colorscale": {
           "diverging": [
            [
             0,
             "#8e0152"
            ],
            [
             0.1,
             "#c51b7d"
            ],
            [
             0.2,
             "#de77ae"
            ],
            [
             0.3,
             "#f1b6da"
            ],
            [
             0.4,
             "#fde0ef"
            ],
            [
             0.5,
             "#f7f7f7"
            ],
            [
             0.6,
             "#e6f5d0"
            ],
            [
             0.7,
             "#b8e186"
            ],
            [
             0.8,
             "#7fbc41"
            ],
            [
             0.9,
             "#4d9221"
            ],
            [
             1,
             "#276419"
            ]
           ],
           "sequential": [
            [
             0,
             "#0d0887"
            ],
            [
             0.1111111111111111,
             "#46039f"
            ],
            [
             0.2222222222222222,
             "#7201a8"
            ],
            [
             0.3333333333333333,
             "#9c179e"
            ],
            [
             0.4444444444444444,
             "#bd3786"
            ],
            [
             0.5555555555555556,
             "#d8576b"
            ],
            [
             0.6666666666666666,
             "#ed7953"
            ],
            [
             0.7777777777777778,
             "#fb9f3a"
            ],
            [
             0.8888888888888888,
             "#fdca26"
            ],
            [
             1,
             "#f0f921"
            ]
           ],
           "sequentialminus": [
            [
             0,
             "#0d0887"
            ],
            [
             0.1111111111111111,
             "#46039f"
            ],
            [
             0.2222222222222222,
             "#7201a8"
            ],
            [
             0.3333333333333333,
             "#9c179e"
            ],
            [
             0.4444444444444444,
             "#bd3786"
            ],
            [
             0.5555555555555556,
             "#d8576b"
            ],
            [
             0.6666666666666666,
             "#ed7953"
            ],
            [
             0.7777777777777778,
             "#fb9f3a"
            ],
            [
             0.8888888888888888,
             "#fdca26"
            ],
            [
             1,
             "#f0f921"
            ]
           ]
          },
          "colorway": [
           "#636efa",
           "#EF553B",
           "#00cc96",
           "#ab63fa",
           "#FFA15A",
           "#19d3f3",
           "#FF6692",
           "#B6E880",
           "#FF97FF",
           "#FECB52"
          ],
          "font": {
           "color": "#2a3f5f"
          },
          "geo": {
           "bgcolor": "white",
           "lakecolor": "white",
           "landcolor": "#E5ECF6",
           "showlakes": true,
           "showland": true,
           "subunitcolor": "white"
          },
          "hoverlabel": {
           "align": "left"
          },
          "hovermode": "closest",
          "mapbox": {
           "style": "light"
          },
          "paper_bgcolor": "white",
          "plot_bgcolor": "#E5ECF6",
          "polar": {
           "angularaxis": {
            "gridcolor": "white",
            "linecolor": "white",
            "ticks": ""
           },
           "bgcolor": "#E5ECF6",
           "radialaxis": {
            "gridcolor": "white",
            "linecolor": "white",
            "ticks": ""
           }
          },
          "scene": {
           "xaxis": {
            "backgroundcolor": "#E5ECF6",
            "gridcolor": "white",
            "gridwidth": 2,
            "linecolor": "white",
            "showbackground": true,
            "ticks": "",
            "zerolinecolor": "white"
           },
           "yaxis": {
            "backgroundcolor": "#E5ECF6",
            "gridcolor": "white",
            "gridwidth": 2,
            "linecolor": "white",
            "showbackground": true,
            "ticks": "",
            "zerolinecolor": "white"
           },
           "zaxis": {
            "backgroundcolor": "#E5ECF6",
            "gridcolor": "white",
            "gridwidth": 2,
            "linecolor": "white",
            "showbackground": true,
            "ticks": "",
            "zerolinecolor": "white"
           }
          },
          "shapedefaults": {
           "line": {
            "color": "#2a3f5f"
           }
          },
          "ternary": {
           "aaxis": {
            "gridcolor": "white",
            "linecolor": "white",
            "ticks": ""
           },
           "baxis": {
            "gridcolor": "white",
            "linecolor": "white",
            "ticks": ""
           },
           "bgcolor": "#E5ECF6",
           "caxis": {
            "gridcolor": "white",
            "linecolor": "white",
            "ticks": ""
           }
          },
          "title": {
           "x": 0.05
          },
          "xaxis": {
           "automargin": true,
           "gridcolor": "white",
           "linecolor": "white",
           "ticks": "",
           "title": {
            "standoff": 15
           },
           "zerolinecolor": "white",
           "zerolinewidth": 2
          },
          "yaxis": {
           "automargin": true,
           "gridcolor": "white",
           "linecolor": "white",
           "ticks": "",
           "title": {
            "standoff": 15
           },
           "zerolinecolor": "white",
           "zerolinewidth": 2
          }
         }
        },
        "title": {
         "text": "LAP TIMES"
        },
        "xaxis": {
         "anchor": "y",
         "autorange": true,
         "domain": [
          0,
          1
         ],
         "range": [
          0,
          201
         ],
         "title": {
          "text": "Lap"
         },
         "type": "linear"
        },
        "yaxis": {
         "anchor": "x",
         "autorange": true,
         "domain": [
          0,
          1
         ],
         "range": [
          16.18911111111111,
          610.486888888889
         ],
         "title": {
          "text": "LapTime"
         },
         "type": "linear"
        }
       }
      },
      "image/png": "[encoded data removed]"
     },
     "metadata": {},
     "output_type": "display_data"
    }
   ],
   "source": [
    "driver_csv = path + driver + '.csv'\n",
    "df = pd.read_csv(driver_csv)\n",
    "df = df.drop([11,21])\n",
    "print(df.head(5))\n",
    "\n",
    "# check lap_value to use\n",
    "annotation = 'filtered: ' + str(filtered_speed_value) + 'mph'\n",
    "fig = px.line(df, x='Lap', y='LapSpeed', title='SPEED')\n",
    "fig.add_hline(y=filtered_speed_value, line_width=0.5, line_color='red', annotation_text=annotation)\n",
    "fig.show()\n",
    "\n",
    "# check speed_value to use\n",
    "annotation = 'filtered: ' + str(filtered_lap_value) + 'sec'\n",
    "fig = px.line(df, x='Lap', y='LapTime', title='LAP TIMES')\n",
    "fig.add_hline(y=filtered_lap_value, line_width=0.5, line_color='red', annotation_text=annotation)\n",
    "fig.show()\n",
    "\n",
    "del df"
   ]
  },
  {
   "cell_type": "markdown",
   "id": "9bac4473-c2ad-407c-81a0-be7d5b805372",
   "metadata": {},
   "source": [
    "# Create lap time files for each driver  (Driver Name.csv)"
   ]
  },
  {
   "cell_type": "code",
   "execution_count": 5,
   "id": "72cc36bb-2c4b-420a-b420-c96a8232b081",
   "metadata": {},
   "outputs": [
    {
     "name": "stdout",
     "output_type": "stream",
     "text": [
      "William Byron\n",
      "Tyler Reddick\n",
      "Jimmie Johnson\n",
      "Chase Briscoe\n",
      "John Hunter Nemechek\n",
      "Alex Bowman\n",
      "Ryan Blaney\n",
      "Austin Cindric\n",
      "Justin Allgaier\n",
      "Chris Buescher\n",
      "Michael McDowell\n",
      "Erik Jones\n",
      "Daniel Suarez\n",
      "Ty Dillon\n",
      "Chase Elliott\n",
      "Ty Gibbs\n",
      "Riley Herbst\n",
      "Ricky Stenhouse Jr.\n",
      "Justin Haley\n",
      "Kyle Larson\n",
      "Cole Custer\n",
      "Corey LaJoie\n",
      "Austin Dillon\n",
      "Denny Hamlin\n",
      "Cody Ware\n",
      "Brad Keselowsk\n",
      "Todd Gilliland\n",
      "Noah Gragson\n",
      "Bubba Wallace\n",
      "Carson Hocevar\n",
      "Christopher Bell\n",
      "Ryan Preece\n",
      "Shane Van Gisbergen\n",
      "Kyle Busch\n",
      "Joey Logano\n",
      "Zane Smith\n",
      "Josh Berry\n",
      "Martin Truex Jr.\n",
      "Helio Castroneves\n",
      "Ross Chastain\n",
      "AJ Allmendinger\n",
      "   Lap  LapTime LapSpeed  RunningPos Number Manufacturer\n",
      "0    0      NaN     None          13     16          Chv\n",
      "1    1   51.743  173.937          13     16          Chv\n",
      "2    2   47.916  187.829          13     16          Chv\n",
      "3    3   47.938  187.743          13     16          Chv\n",
      "4    4   47.989  187.543          11     16          Chv\n"
     ]
    }
   ],
   "source": [
    "for i in np.arange(len(driver_list)):\n",
    "    \n",
    "    # Get data into dataframe\n",
    "    url = f'https://cf.nascar.com/cacher/2025/1/{race_id}/lap-times.json'\n",
    "    json = requests.get(url).json()\n",
    "    lap_times = pd.json_normalize(json['laps'][i]['Laps'])\n",
    "    \n",
    "    # Find driver name to see who we're dealing with\n",
    "    driver_info = pd.DataFrame(json['laps'][i])\n",
    "    driver_name = driver_info['FullName'][i]\n",
    "    driver_name = driver_name.lstrip('* ').rstrip(' #(i)')\n",
    "    lap_times['Number'] = driver_info['Number'][i]\n",
    "    lap_times['Manufacturer'] = driver_info['Manufacturer'][i]\n",
    "    \n",
    "    # Save to .csv\n",
    "    driver_name_csv = path + driver_name + '.csv'\n",
    "    #lap_times.to_csv(driver_name_csv)\n",
    "\n",
    "    print(driver_name)\n",
    "\n",
    "print(lap_times.head())"
   ]
  },
  {
   "cell_type": "markdown",
   "id": "8e358356-3899-49eb-8a7a-1fbaf17fc0cd",
   "metadata": {},
   "source": [
    "# Collect Summary info (Track_race.csv)"
   ]
  },
  {
   "cell_type": "code",
   "execution_count": 7,
   "id": "7ed75728-e4de-47b8-8625-54c70b7c9fdb",
   "metadata": {
    "scrolled": true
   },
   "outputs": [
    {
     "name": "stdout",
     "output_type": "stream",
     "text": [
      "            Driver_Name Number Manufacturer Start_Pos  Lowest_Pos  \\\n",
      "0         Tyler Reddick     45          Tyt        11          32   \n",
      "1  John Hunter Nemechek     42          Tyt        18          38   \n",
      "2           Ryan Blaney     12          Frd        16          32   \n",
      "3        Chris Buescher     17          Frd         6          33   \n",
      "4             Ty Dillon     10          Chv         7          38   \n",
      "\n",
      "   Highest_Pos Ending_Pos Pos_Change      ARP  Fastest_Lap  P50_lap  P95_lap  \\\n",
      "0            2          2          9  13.8515       46.042  47.4265  50.9676   \n",
      "1            3          5         13  20.2376       46.061  47.4740  50.9029   \n",
      "2            1          1         15   9.1133       46.126  47.3690  51.0642   \n",
      "3            2         10         -4  14.4802       45.918  47.3510  51.7725   \n",
      "4            1         14         -7  22.0941       46.443  47.6910  51.9188   \n",
      "\n",
      "   Highest_speed  P50_speed  P95_speed  \n",
      "0        195.474   189.7290   194.1180  \n",
      "1        195.393   189.5770   193.9070  \n",
      "2        195.118   189.7110   194.1325  \n",
      "3        196.002   189.9915   194.2185  \n",
      "4        193.786   188.6520   192.6970  \n"
     ]
    }
   ],
   "source": [
    "use_csv = path + '*[!_race][!_summary][!_500].csv'\n",
    "csv_files = glob.glob(use_csv)\n",
    "\n",
    "# Get data into dataframe\n",
    "url = f'https://cf.nascar.com/cacher/2025/1/{race_id}/lap-times.json'\n",
    "json = requests.get(url).json()\n",
    "driver_info = pd.json_normalize(json['laps'])\n",
    "driver_info = driver_info[['FullName','Number','Manufacturer']]\n",
    "driver_info = driver_info.rename(columns={'FullName': 'Driver_Name'})\n",
    "\n",
    "\n",
    "df_list = []\n",
    "i = 0\n",
    "\n",
    "for file in csv_files:\n",
    "    df = pd.read_csv(file)\n",
    "    \n",
    "    # Driver_Name\n",
    "    Driver_Name = file.lstrip(path).rstrip('.csv')\n",
    "    # Car number\n",
    "    Car = driver_info['Number']\n",
    "    # Manufacturer\n",
    "    Manufacturer = driver_info['Manufacturer']\n",
    "    # Start_Pos\n",
    "    Start_Pos = df['RunningPos'].head(1).values\n",
    "    # Lowest_Pos\n",
    "    Lowest_Pos = df['RunningPos'].max()\n",
    "    # Highest_Pos\n",
    "    Highest_Pos = df['RunningPos'].min()\n",
    "    # Ending_Pos\n",
    "    Ending_Pos = df['RunningPos'].tail(1).values\n",
    "    # Pos_Change\n",
    "    Pos_Change = Start_Pos.astype(int) - Ending_Pos\n",
    "    # Ave running pos\n",
    "    ARP = round(df['RunningPos'].mean(), 4)\n",
    "    # Fastest_Lap\n",
    "    filtered_lap = [x for x in df['LapTime'] if x <= filtered_lap_value]\n",
    "    Fastest_lap = min(filtered_lap)\n",
    "    # Ave_Lap\n",
    "    P50_lap = round(np.quantile(filtered_lap, 0.5), 4)\n",
    "    # 95% quartile lap time\n",
    "    P95_lap = round(np.quantile(filtered_lap, 0.95), 4)\n",
    "    # Highest_Speed\n",
    "    filtered_speed = [x for x in df['LapSpeed'] if x >= filtered_speed_value]\n",
    "    Highest_speed = max(filtered_speed)\n",
    "    # 50% quartile speed\n",
    "    P50_speed = round(np.quantile(filtered_speed, 0.5), 4)\n",
    "    # 95% quartile speed\n",
    "    P95_speed = round(np.quantile(filtered_speed, 0.95), 4)\n",
    "\n",
    "    # combine all into main race csv\n",
    "    data = {'Driver_Name': Driver_Name,'Start_Pos': Start_Pos,'Lowest_Pos': Lowest_Pos,'Highest_Pos': Highest_Pos,'Ending_Pos': Ending_Pos,'Pos_Change': Pos_Change,'ARP': ARP,'Fastest_Lap': Fastest_lap,'P50_lap': P50_lap,'P95_lap': P95_lap,'Highest_speed': Highest_speed,'P50_speed': P50_speed,'P95_speed': P95_speed}\n",
    "    # append dataframe to the list\n",
    "    df_list.append(data)\n",
    "    i = i + 1\n",
    "\n",
    "race_data = pd.DataFrame(df_list)\n",
    "\n",
    "\n",
    "# clean Start_Pos\n",
    "clean_start_pos = race_data['Start_Pos'].astype(str)\n",
    "clean_start_pos = clean_start_pos.str.strip('[]')\n",
    "\n",
    "# clean Ending_Pos\n",
    "clean_end_pos = race_data['Ending_Pos'].astype(str)\n",
    "clean_end_pos = clean_end_pos.str.strip('[]')\n",
    "\n",
    "# clean Pos_Change\n",
    "clean_pos_change = race_data['Pos_Change'].astype(str)\n",
    "clean_pos_change = clean_pos_change.str.strip('[]')\n",
    "\n",
    "race_data['Start_Pos'] = clean_start_pos\n",
    "race_data['Ending_Pos'] = clean_end_pos\n",
    "race_data['Pos_Change'] = clean_pos_change\n",
    "\n",
    "# merge with driver_info\n",
    "merged_totals = driver_info.merge(race_data, on='Driver_Name')\n",
    "\n",
    "# export as csv\n",
    "export_csv = path + race_name\n",
    "#merged_totals.to_csv(export_csv)\n",
    "\n",
    "print(merged_totals.head())"
   ]
  },
  {
   "cell_type": "code",
   "execution_count": null,
   "id": "39ef7a1b-fd40-41bf-91de-3cba5ff8e314",
   "metadata": {},
   "outputs": [],
   "source": []
  },
  {
   "cell_type": "code",
   "execution_count": null,
   "id": "65602acd-11f3-4db2-813e-85009e5c8824",
   "metadata": {},
   "outputs": [],
   "source": []
  },
  {
   "cell_type": "code",
   "execution_count": null,
   "id": "b1ecf43d-e351-4ccb-96eb-8cca82fc31aa",
   "metadata": {},
   "outputs": [],
   "source": []
  }
 ],
 "metadata": {
  "kernelspec": {
   "display_name": "Python 3 (ipykernel)",
   "language": "python",
   "name": "python3"
  },
  "language_info": {
   "codemirror_mode": {
    "name": "ipython",
    "version": 3
   },
   "file_extension": ".py",
   "mimetype": "text/x-python",
   "name": "python",
   "nbconvert_exporter": "python",
   "pygments_lexer": "ipython3",
   "version": "3.10.12"
  }
 },
 "nbformat": 4,
 "nbformat_minor": 5
}
