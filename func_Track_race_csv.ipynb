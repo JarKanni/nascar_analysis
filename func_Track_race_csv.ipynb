{
 "cells": [
  {
   "cell_type": "code",
   "execution_count": 1,
   "id": "52cc8783-0dd8-4cc1-bb1f-a5ae8f7503b9",
   "metadata": {},
   "outputs": [],
   "source": [
    "import pandas as pd\n",
    "import requests\n",
    "import numpy as np\n",
    "import plotly.express as px\n",
    "import plotly.graph_objects as go\n",
    "import glob\n",
    "import os\n",
    "\n",
    "# force to show all rows and columns\n",
    "pd.set_option('display.max_rows', None)  # Show all rows\n",
    "pd.set_option('display.max_columns', None)  # Show all columns"
   ]
  },
  {
   "cell_type": "code",
   "execution_count": 2,
   "id": "4eab6cf1-10af-416c-a4bf-410214f6dfc2",
   "metadata": {},
   "outputs": [],
   "source": [
    "# variables to find race and driver, also cut off time to take out yellow flags and pit stop laps\n",
    "race_id = 5546\n",
    "driver_id = 0\n",
    "lap_time_cutoff = 17\n",
    "\n",
    "race_name = 'Daytona' + '_race.csv'\n",
    "path = './data/2025_01_Daytona/'\n",
    "filtered_lap_value = 70\n",
    "filtered_speed_value = 110"
   ]
  },
  {
   "cell_type": "code",
   "execution_count": 3,
   "id": "4f340845-3c66-4ea9-8651-a8114ee7de67",
   "metadata": {},
   "outputs": [],
   "source": [
    "# pull driver list from api\n",
    "url = f'https://cf.nascar.com/cacher/2025/1/{race_id}/lap-times.json'\n",
    "json = requests.get(url).json()\n",
    "driver_list = pd.json_normalize(json['laps'])\n",
    "driver_list = driver_list[['FullName','Number','Manufacturer','RunningPos']]"
   ]
  },
  {
   "cell_type": "code",
   "execution_count": 4,
   "id": "235a14f9-8ffb-4843-8836-3139ac428e51",
   "metadata": {},
   "outputs": [
    {
     "name": "stdout",
     "output_type": "stream",
     "text": [
      "William Byron\n",
      "Tyler Reddick\n",
      "Jimmie Johnson\n",
      "Chase Briscoe\n",
      "John Hunter Nemechek\n",
      "Alex Bowman\n",
      "Ryan Blaney\n",
      "Austin Cindric\n",
      "Justin Allgaier\n",
      "Chris Buescher\n",
      "Michael McDowell\n",
      "Erik Jones\n",
      "Daniel Suarez\n",
      "Ty Dillon\n",
      "Chase Elliott\n",
      "Ty Gibbs\n",
      "Riley Herbst\n",
      "Ricky Stenhouse Jr.\n",
      "Justin Haley\n",
      "Kyle Larson\n",
      "Cole Custer\n",
      "Corey LaJoie\n",
      "Austin Dillon\n",
      "Denny Hamlin\n",
      "Cody Ware\n",
      "Brad Keselowsk\n",
      "Todd Gilliland\n",
      "Noah Gragson\n",
      "Bubba Wallace\n",
      "Carson Hocevar\n",
      "Christopher Bell\n",
      "Ryan Preece\n",
      "Shane Van Gisbergen\n",
      "Kyle Busch\n",
      "Joey Logano\n",
      "Zane Smith\n",
      "Josh Berry\n",
      "Martin Truex Jr.\n",
      "Helio Castroneves\n",
      "Ross Chastain\n",
      "AJ Allmendinger\n",
      "   Lap  LapTime LapSpeed  RunningPos Number Manufacturer\n",
      "0    0      NaN     None          13     16          Chv\n",
      "1    1   51.743  173.937          13     16          Chv\n",
      "2    2   47.916  187.829          13     16          Chv\n",
      "3    3   47.938  187.743          13     16          Chv\n",
      "4    4   47.989  187.543          11     16          Chv\n"
     ]
    }
   ],
   "source": [
    "for i in np.arange(len(driver_list)):\n",
    "    \n",
    "    # Get data into dataframe\n",
    "    url = f'https://cf.nascar.com/cacher/2025/1/{race_id}/lap-times.json'\n",
    "    json = requests.get(url).json()\n",
    "    lap_times = pd.json_normalize(json['laps'][i]['Laps'])\n",
    "    \n",
    "    # Find driver name to see who we're dealing with\n",
    "    driver_info = pd.DataFrame(json['laps'][i])\n",
    "    driver_name = driver_info['FullName'][i]\n",
    "    driver_name = driver_name.lstrip('* ').rstrip(' #(i)')\n",
    "    lap_times['Number'] = driver_info['Number'][i]\n",
    "    lap_times['Manufacturer'] = driver_info['Manufacturer'][i]\n",
    "    \n",
    "    # Save to .csv\n",
    "    driver_name_csv = path + driver_name + '.csv'\n",
    "    #lap_times.to_csv(driver_name_csv)\n",
    "\n",
    "    print(driver_name)\n",
    "\n",
    "print(lap_times.head())"
   ]
  },
  {
   "cell_type": "code",
   "execution_count": 5,
   "id": "52b8240e-45f3-4210-bf80-3758d3818d86",
   "metadata": {},
   "outputs": [
    {
     "name": "stdout",
     "output_type": "stream",
     "text": [
      "                 FullName Number Manufacturer  RunningPos\n",
      "0           William Byron     24          Chv           1\n",
      "1           Tyler Reddick     45          Tyt           2\n",
      "2        * Jimmie Johnson     84          Tyt           3\n",
      "3           Chase Briscoe     19          Tyt           4\n",
      "4    John Hunter Nemechek     42          Tyt           5\n",
      "5             Alex Bowman     48          Chv           6\n",
      "6             Ryan Blaney     12          Frd           7\n",
      "7          Austin Cindric      2          Frd           8\n",
      "8    * Justin Allgaier(i)     40          Chv           9\n",
      "9          Chris Buescher     17          Frd          10\n",
      "10       Michael McDowell     71          Chv          11\n",
      "11             Erik Jones     43          Tyt          12\n",
      "12          Daniel Suarez     99          Chv          13\n",
      "13              Ty Dillon     10          Chv          14\n",
      "14          Chase Elliott      9          Chv          15\n",
      "15               Ty Gibbs     54          Tyt          16\n",
      "16         Riley Herbst #     35          Tyt          17\n",
      "17    Ricky Stenhouse Jr.     47          Chv          18\n",
      "18           Justin Haley      7          Chv          19\n",
      "19            Kyle Larson      5          Chv          20\n",
      "20            Cole Custer     41          Frd          21\n",
      "21         * Corey LaJoie     01          Frd          22\n",
      "22          Austin Dillon      3          Chv          23\n",
      "23           Denny Hamlin     11          Tyt          24\n",
      "24              Cody Ware     51          Frd          25\n",
      "25        Brad Keselowski      6          Frd          26\n",
      "26         Todd Gilliland     34          Frd          27\n",
      "27           Noah Gragson      4          Frd          28\n",
      "28          Bubba Wallace     23          Tyt          29\n",
      "29         Carson Hocevar     77          Chv          30\n",
      "30       Christopher Bell     20          Tyt          31\n",
      "31            Ryan Preece     60          Frd          32\n",
      "32  Shane Van Gisbergen #     88          Chv          33\n",
      "33             Kyle Busch      8          Chv          34\n",
      "34            Joey Logano     22          Frd          35\n",
      "35             Zane Smith     38          Frd          36\n",
      "36             Josh Berry     21          Frd          37\n",
      "37     * Martin Truex Jr.     56          Tyt          38\n",
      "38    * Helio Castroneves     91          Chv          39\n",
      "39          Ross Chastain      1          Chv          40\n",
      "40        AJ Allmendinger     16          Chv          41\n"
     ]
    }
   ],
   "source": [
    "print(driver_list)"
   ]
  },
  {
   "cell_type": "code",
   "execution_count": null,
   "id": "4d868234-bc90-4c4d-bcc7-f7d252086094",
   "metadata": {},
   "outputs": [],
   "source": []
  }
 ],
 "metadata": {
  "kernelspec": {
   "display_name": "Python 3 (ipykernel)",
   "language": "python",
   "name": "python3"
  },
  "language_info": {
   "codemirror_mode": {
    "name": "ipython",
    "version": 3
   },
   "file_extension": ".py",
   "mimetype": "text/x-python",
   "name": "python",
   "nbconvert_exporter": "python",
   "pygments_lexer": "ipython3",
   "version": "3.10.12"
  }
 },
 "nbformat": 4,
 "nbformat_minor": 5
}
