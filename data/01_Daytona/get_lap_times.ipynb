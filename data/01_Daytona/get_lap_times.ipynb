{
 "cells": [
  {
   "cell_type": "code",
   "execution_count": 181,
   "id": "8a3ec38d-1b8e-4d85-be2a-29687d24a0e6",
   "metadata": {},
   "outputs": [],
   "source": [
    "import json\n",
    "import pandas as pd"
   ]
  },
  {
   "cell_type": "code",
   "execution_count": 185,
   "id": "3b5a3fb4-b7e3-4a1c-8a6c-0db29e3562d9",
   "metadata": {},
   "outputs": [],
   "source": [
    "driver_id = 40"
   ]
  },
  {
   "cell_type": "code",
   "execution_count": 186,
   "id": "37538c4d-edd7-4dc6-a342-678e506691a4",
   "metadata": {},
   "outputs": [
    {
     "name": "stdout",
     "output_type": "stream",
     "text": [
      "    Lap   LapTime LapSpeed  RunningPos\n",
      "0     0       NaN     None          13\n",
      "1     1    51.743  173.937          13\n",
      "2     2    47.916  187.829          13\n",
      "3     3    47.938  187.743          13\n",
      "4     4    47.989  187.543          11\n",
      "5     5    48.048  187.313           8\n",
      "6     6    48.251  186.525           8\n",
      "7     7    47.759  188.446           8\n",
      "8     8    47.875  187.990          14\n",
      "9     9    48.163  186.865          14\n",
      "10   10   113.662   79.182          12\n",
      "11   11  9999.999    0.900          30\n",
      "12   12   174.045   51.711          12\n",
      "13   13   161.512   55.723          12\n",
      "14   14   128.584   69.993          12\n",
      "15   15   128.121   70.246          12\n",
      "16   16   130.610   68.907          28\n",
      "17   17   130.941   68.733          24\n",
      "18   18   126.926   70.907          19\n",
      "19   19   127.563   70.553          17\n",
      "20   20   145.908   61.683          17\n",
      "21   21  1512.834    5.949          17\n",
      "22   22   125.527   71.698          14\n",
      "23   23   119.431   75.357          11\n",
      "24   24    51.453  174.917          11\n",
      "25   25    47.904  187.876          11\n",
      "26   26    47.803  188.273          12\n",
      "27   27    47.542  189.306          12\n",
      "28   28    47.193  190.706           8\n",
      "29   29    47.055  191.266           7\n",
      "30   30    47.137  190.933           8\n",
      "31   31    47.582  189.147           6\n",
      "32   32    47.455  189.653           7\n",
      "33   33    47.394  189.897           8\n",
      "34   34    47.331  190.150          10\n",
      "35   35    47.474  189.577          11\n",
      "36   36    47.435  189.733           9\n",
      "37   37    47.266  190.412           8\n",
      "38   38    47.494  189.498          12\n",
      "39   39    47.584  189.139          15\n",
      "40   40    47.517  189.406          14\n",
      "41   41    47.506  189.450          14\n",
      "42   42    50.227  179.186          39\n"
     ]
    }
   ],
   "source": [
    "# Get data into dataframe\n",
    "with open('lap-times.json', 'r') as f:\n",
    "    data = json.load(f)\n",
    "\n",
    "\n",
    "df = pd.DataFrame(data['laps'][driver_id]['Laps'])\n",
    "\n",
    "print(df)"
   ]
  },
  {
   "cell_type": "code",
   "execution_count": 187,
   "id": "2bbf55f4-99ee-42f5-9626-f27e502145e0",
   "metadata": {},
   "outputs": [
    {
     "name": "stdout",
     "output_type": "stream",
     "text": [
      "AJ Allmendinger\n"
     ]
    }
   ],
   "source": [
    "# get driver name\n",
    "driver_name = pd.DataFrame(data['laps'][driver_id])\n",
    "driver_name = driver_name['FullName'][driver_id]\n",
    "\n",
    "driver_name = driver_name.lstrip('* ').rstrip(' #')\n",
    "\n",
    "print(driver_name)"
   ]
  },
  {
   "cell_type": "code",
   "execution_count": 188,
   "id": "b9e88e41-8115-444d-8d04-a6a28a90bcfa",
   "metadata": {},
   "outputs": [
    {
     "name": "stdout",
     "output_type": "stream",
     "text": [
      "AJ Allmendinger.csv\n"
     ]
    }
   ],
   "source": [
    "# save as csv\n",
    "driver_name = driver_name + '.csv'\n",
    "\n",
    "print(driver_name)\n",
    "df.to_csv(driver_name)"
   ]
  },
  {
   "cell_type": "code",
   "execution_count": null,
   "id": "017f74fa-b9e6-4a53-b3d2-e75105b0b476",
   "metadata": {},
   "outputs": [],
   "source": []
  },
  {
   "cell_type": "code",
   "execution_count": null,
   "id": "e951cd21-e500-442d-80f0-a8b69f51cf65",
   "metadata": {},
   "outputs": [],
   "source": []
  }
 ],
 "metadata": {
  "kernelspec": {
   "display_name": "Python 3 (ipykernel)",
   "language": "python",
   "name": "python3"
  },
  "language_info": {
   "codemirror_mode": {
    "name": "ipython",
    "version": 3
   },
   "file_extension": ".py",
   "mimetype": "text/x-python",
   "name": "python",
   "nbconvert_exporter": "python",
   "pygments_lexer": "ipython3",
   "version": "3.12.7"
  }
 },
 "nbformat": 4,
 "nbformat_minor": 5
}
