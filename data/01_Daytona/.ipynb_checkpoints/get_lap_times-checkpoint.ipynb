{
 "cells": [
  {
   "cell_type": "code",
   "execution_count": 2,
   "id": "8a3ec38d-1b8e-4d85-be2a-29687d24a0e6",
   "metadata": {},
   "outputs": [],
   "source": [
    "import json\n",
    "import pandas as pd"
   ]
  },
  {
   "cell_type": "code",
   "execution_count": 174,
   "id": "3b5a3fb4-b7e3-4a1c-8a6c-0db29e3562d9",
   "metadata": {},
   "outputs": [],
   "source": [
    "driver_id = 10"
   ]
  },
  {
   "cell_type": "code",
   "execution_count": 175,
   "id": "37538c4d-edd7-4dc6-a342-678e506691a4",
   "metadata": {},
   "outputs": [
    {
     "name": "stdout",
     "output_type": "stream",
     "text": [
      "     Lap  LapTime LapSpeed  RunningPos\n",
      "0      0      NaN     None          25\n",
      "1      1   51.822  173.671          24\n",
      "2      2   47.725  188.580          25\n",
      "3      3   47.806  188.261          25\n",
      "4      4   48.209  186.687          25\n",
      "..   ...      ...      ...         ...\n",
      "197  197  565.443   15.917          21\n",
      "198  198  131.427   68.479          17\n",
      "199  199  115.068   78.215          17\n",
      "200  200   50.630  177.760          14\n",
      "201  201   56.515  159.250          11\n",
      "\n",
      "[202 rows x 4 columns]\n"
     ]
    }
   ],
   "source": [
    "# Get data into dataframe\n",
    "with open('lap-times.json', 'r') as f:\n",
    "    data = json.load(f)\n",
    "\n",
    "\n",
    "df = pd.DataFrame(data['laps'][driver_id]['Laps'])\n",
    "\n",
    "print(df)"
   ]
  },
  {
   "cell_type": "code",
   "execution_count": 176,
   "id": "2bbf55f4-99ee-42f5-9626-f27e502145e0",
   "metadata": {},
   "outputs": [
    {
     "name": "stdout",
     "output_type": "stream",
     "text": [
      "Michael McDowell\n"
     ]
    }
   ],
   "source": [
    "# get driver name\n",
    "driver_name = pd.DataFrame(data['laps'][driver_id])\n",
    "driver_name = driver_name['FullName'][driver_id]\n",
    "\n",
    "driver_name = driver_name.lstrip('* ').rstrip(' #')\n",
    "\n",
    "print(driver_name)"
   ]
  },
  {
   "cell_type": "code",
   "execution_count": 177,
   "id": "b9e88e41-8115-444d-8d04-a6a28a90bcfa",
   "metadata": {},
   "outputs": [
    {
     "name": "stdout",
     "output_type": "stream",
     "text": [
      "Michael McDowell.csv\n"
     ]
    }
   ],
   "source": [
    "# save as csv\n",
    "driver_name = driver_name + '.csv'\n",
    "\n",
    "print(driver_name)\n",
    "df.to_csv(driver_name)"
   ]
  },
  {
   "cell_type": "code",
   "execution_count": null,
   "id": "017f74fa-b9e6-4a53-b3d2-e75105b0b476",
   "metadata": {},
   "outputs": [],
   "source": []
  },
  {
   "cell_type": "code",
   "execution_count": null,
   "id": "e951cd21-e500-442d-80f0-a8b69f51cf65",
   "metadata": {},
   "outputs": [],
   "source": []
  }
 ],
 "metadata": {
  "kernelspec": {
   "display_name": "Python 3 (ipykernel)",
   "language": "python",
   "name": "python3"
  },
  "language_info": {
   "codemirror_mode": {
    "name": "ipython",
    "version": 3
   },
   "file_extension": ".py",
   "mimetype": "text/x-python",
   "name": "python",
   "nbconvert_exporter": "python",
   "pygments_lexer": "ipython3",
   "version": "3.12.7"
  }
 },
 "nbformat": 4,
 "nbformat_minor": 5
}
